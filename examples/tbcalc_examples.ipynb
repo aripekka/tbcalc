{
 "cells": [
  {
   "cell_type": "markdown",
   "metadata": {},
   "source": [
    "# tbcalc - Calculate resolution functions of toroidally bent crystal analysers\n",
    "\n",
    "This notebook demostrates the use of `Analyser`, the main class of _tbcalc_ package to calculate the reflectivity curves of toroidally bent crystals."
   ]
  },
  {
   "cell_type": "code",
   "execution_count": 1,
   "metadata": {},
   "outputs": [],
   "source": [
    "import sys\n",
    "import os.path\n",
    "\n",
    "import numpy as np\n",
    "import matplotlib.pyplot as plt\n",
    "\n",
    "sys.path.insert(1, '..')\n",
    "from tbcalc import Analyser, Quantity"
   ]
  },
  {
   "cell_type": "markdown",
   "metadata": {},
   "source": [
    "(The imported `Quantity` is actually from _PyTTE_ but for convenience it can be imported via _tbcalc_ as well.)\n",
    "\n",
    "## Defining the TBCA\n",
    "\n",
    "The characteristics of a TBCA can be passed either as keyword arguments or in a text file. The initialization of `Analyser` utilizes is built on the top of `TTcrystal` class of _pyTTE_. The mandatory keywords required by `TTcrystal` are `crystal`, `hkl`, and `thickness`. Also optional parameters of `TTcrystal` are supported (except for `fix_to_axes` as the shape of the crystal is fixed by the bending radii).\n",
    "\n",
    "In addition, `Analyser` needs the meridional and sagittal bending radii `Rx` and `Ry` (or `R` for spherical bending) and the following keywords to determine the geometry of the crystal wafer:\n",
    "\n",
    "- **Circular analyser**  `diameter`\n",
    "- **Rectangular analyser** `a`, `b`\n",
    "- **Strip-bent analyser** `diameter`, `strip_width`, `strip_orientation` (optional)\n",
    "\n",
    "In the following we define a spherically bent crystal analyser with the minimum number of parameters:"
   ]
  },
  {
   "cell_type": "code",
   "execution_count": 2,
   "metadata": {},
   "outputs": [
    {
     "name": "stdout",
     "output_type": "stream",
     "text": [
      "CRYSTAL PARAMETERS\n",
      "------------------\n",
      "\n",
      "Crystal: Si\n",
      "Crystallographic parameters:\n",
      "    a = 0.543069 nm,  b = 0.543069 nm,  c = 0.543069 nm\n",
      "    alpha = 90.0 deg,  beta = 90.0 nm,  gamma = 90.0 deg\n",
      "Direct primitive vectors (before rotations, in nm):\n",
      "    a1 = [0.5431 0.     0.    ]\n",
      "    a2 = [0.     0.5431 0.    ]\n",
      "    a3 = [0.     0.     0.5431]\n",
      "Reciprocal primitive vectors (before rotations, in 1/nm):\n",
      "    b1 = [11.5698 -0.     -0.    ]\n",
      "    b2 = [ 0.     11.5698 -0.    ]\n",
      "    b3 = [ 0.      0.     11.5698]\n",
      "\n",
      "Reflection: [6, 6, 0]\n",
      "Asymmetry angle: 0 deg\n",
      "In-plane rotation angle: 0 deg\n",
      "Crystal directions parallel to the Cartesian axes (after rotations):\n",
      "    x || [ 0.7071 -0.7071 -1.    ]\n",
      "    y || [-0.7071  0.7071 -1.    ]\n",
      "    z || [ 1.  1. -0.]\n",
      "\n",
      "Crystal thickness: 150 um\n",
      "Debye-Waller factor: 1.0\n",
      "\n",
      "Deformation model: anisotropic toroidal, fixed shape (built-in)\n",
      "Meridional bending radius: 1 m\n",
      "Sagittal bending radius: 1 m\n",
      "Material elastic isotropy: anisotropic\n",
      "Compliance matrix S (with rotations applied):\n",
      "[[ 0.0055 -0.0008 -0.0013  0.      0.      0.0009]\n",
      " [-0.0008  0.0055 -0.0013 -0.      0.      0.0009]\n",
      " [-0.0013 -0.0013  0.0059 -0.     -0.     -0.0018]\n",
      " [ 0.     -0.     -0.      0.0161 -0.0035  0.    ]\n",
      " [-0.      0.     -0.     -0.0035  0.0161  0.    ]\n",
      " [ 0.0009  0.0009 -0.0018  0.      0.      0.0179]] GPa^-1\n",
      "\n",
      "ANALYSER PARAMETERS\n",
      "-------------------\n",
      "\n",
      "Wafer shape       : strip-bent\n",
      "Diameter          : 100 mm\n",
      "Strip_width       : 10 mm\n",
      "Strip_orientation : meridional\n"
     ]
    }
   ],
   "source": [
    "kwargs = {\n",
    "         'crystal'   : 'Si',\n",
    "         'hkl'       : [6,6,0],\n",
    "         'thickness' : Quantity(150,'um'),\n",
    "         'R'         : Quantity(1, 'm'),\n",
    "         'diameter'  : Quantity(100,'mm'),\n",
    "         }\n",
    "\n",
    "analyser = Analyser(**kwargs)\n",
    "\n",
    "print(analyser)"
   ]
  },
  {
   "cell_type": "markdown",
   "metadata": {},
   "source": [
    "Note that for parameters with physical dimensions, `Quantity` class is used to avoid manual unit conversion errors."
   ]
  }
 ],
 "metadata": {
  "kernelspec": {
   "display_name": "Python 3",
   "language": "python",
   "name": "python3"
  },
  "language_info": {
   "codemirror_mode": {
    "name": "ipython",
    "version": 3
   },
   "file_extension": ".py",
   "mimetype": "text/x-python",
   "name": "python",
   "nbconvert_exporter": "python",
   "pygments_lexer": "ipython3",
   "version": "3.6.10"
  }
 },
 "nbformat": 4,
 "nbformat_minor": 4
}
