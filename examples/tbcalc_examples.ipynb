{
 "cells": [
  {
   "cell_type": "markdown",
   "metadata": {},
   "source": [
    "# tbcalc - Calculate resolution functions of toroidally bent crystal analysers\n",
    "\n",
    "This notebook demostrates the use of `Analyser`, the main class of _tbcalc_ package to calculate the reflectivity curves of toroidally bent crystals."
   ]
  },
  {
   "cell_type": "code",
   "execution_count": 2,
   "metadata": {},
   "outputs": [],
   "source": [
    "import sys\n",
    "import os.path\n",
    "\n",
    "import numpy as np\n",
    "import matplotlib.pyplot as plt\n",
    "\n",
    "sys.path.insert(1, '..')\n",
    "from tbcalc import Analyser, Quantity"
   ]
  },
  {
   "cell_type": "markdown",
   "metadata": {},
   "source": [
    "(The imported `Quantity` is actually from _PyTTE_ but for convenience it can be imported via _tbcalc_ as well.)\n",
    "\n",
    "## Defining the TBCA\n",
    "\n",
    "The characteristics of a TBCA can be passed either as keyword arguments or in a text file. The initialization of `Analyser` utilizes is built on the top of `TTcrystal` class of _pyTTE_. The mandatory keywords required by `TTcrystal` are `crystal`, `hkl`, and `thickness`. Also optional parameters of `TTcrystal` are supported (except for `fix_to_axes`).\n",
    "\n",
    "In addition, `Analyser` needs the meridional and sagittal bending radii `Rx` and `Ry` (or `R` for spherical bending) and the following keywords to determine the geometry of the crystal wafer:\n",
    "\n",
    "- **Circular analyser**  `diameter`\n",
    "- **Rectangular analyser** `a`, `b`\n",
    "- **Strip-bent analyser** `diameter`, `strip_width`, `strip_orientation` (optional)\n",
    "\n",
    "In the following we define a spherically bent crystal analyser with the minimum number of parameters:"
   ]
  },
  {
   "cell_type": "code",
   "execution_count": 3,
   "metadata": {},
   "outputs": [],
   "source": [
    "kwargs = {\n",
    "          'crystal'   : 'Si',\n",
    "          'hkl'       : [6,6,0],\n",
    "          'thickness' : Quantity(150,'um'),\n",
    "          'R'         : Quantity(1, 'm'),\n",
    "          'diameter'  : Quantity(100,'mm'),\n",
    "}\n",
    "\n",
    "analyser = Analyser(**kwargs)"
   ]
  },
  {
   "cell_type": "markdown",
   "metadata": {},
   "source": [
    "Note that for parameters with physical dimensions, `Quantity` class is used to avoid manual unit conversion errors."
   ]
  }
 ],
 "metadata": {
  "kernelspec": {
   "display_name": "Python 3",
   "language": "python",
   "name": "python3"
  },
  "language_info": {
   "codemirror_mode": {
    "name": "ipython",
    "version": 3
   },
   "file_extension": ".py",
   "mimetype": "text/x-python",
   "name": "python",
   "nbconvert_exporter": "python",
   "pygments_lexer": "ipython3",
   "version": "3.6.10"
  }
 },
 "nbformat": 4,
 "nbformat_minor": 4
}
